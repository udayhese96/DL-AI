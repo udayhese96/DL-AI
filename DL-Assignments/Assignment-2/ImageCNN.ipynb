!mkdir -p ~/.kaggle
!cp kaggle.json ~/.kaggle/

!kaggle datasets download -d balabaskar/golden-foot-football-players-image-dataset

!unzip golden-foot-football-players-image-dataset.zip

import tensorflow as tf
from tensorflow import keras
from keras import Sequential
from keras.layers import Dense, Conv2D, MaxPooling2D, Flatten, BatchNormalization, Dropout
