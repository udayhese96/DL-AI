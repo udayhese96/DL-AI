!mkdir -p ~/.kaggle
!cp kaggle.json ~/.kaggle/

!kaggle datasets download -d balabaskar/golden-foot-football-players-image-dataset

!unzip golden-foot-football-players-image-dataset.zip

import tensorflow as tf
from tensorflow import keras
from keras import Sequential
from keras.layers import Dense, Conv2D, MaxPooling2D, Flatten, BatchNormalization, Dropout

# Define the directory and image size
directory = '/content/football_golden_foot/football_golden_foot'
image_size = (256, 256)
batch_size = 32

# Load the training dataset (80% of the data)
train_ds = keras.utils.image_dataset_from_directory(
    directory=directory,
    labels='inferred',
    label_mode='int',
    batch_size=batch_size,
    image_size=image_size,
    validation_split=0.2,  # Reserve 20% for validation
    subset='training',     # Use this for training
    seed=123               # Set a seed for reproducibility
)

# Load the validation dataset (20% of the data)
validation_ds = keras.utils.image_dataset_from_directory(
    directory=directory,
    labels='inferred',
    label_mode='int',
    batch_size=batch_size,
    image_size=image_size,
    validation_split=0.2,  # Reserve 20% for validation
    subset='validation',   # Use this for validation
    seed=123               # Set a seed for reproducibility
)

